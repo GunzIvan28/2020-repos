{
 "cells": [
  {
   "cell_type": "markdown",
   "metadata": {},
   "source": [
    "# Genome Assembly"
   ]
  },
  {
   "cell_type": "markdown",
   "metadata": {},
   "source": [
    "In this module we will look at one chromosome of the lab strain of Plasmodium falciparum,the IT clone. We have sequenced the genome with PacBio and Illumina.    \n",
    "We will use the following tools for the assembly process:    \n",
    "+ `Canu, wtdbg2` for long reads (PacBio)\n",
    "+ `Velvet suite, unicycler, a5 ,sPades` for short reads (Illumina)    \n",
    "+ `Assembly stats, seqtk, jellyfish` for generating assembly statistics    \n",
    "\n",
    "Install them in the conda environment as follows:    \n",
    "`conda-env create -n assembly python=2.7`    \n",
    "`conda install -y -c conda-forge -c bioconda -c defaults canu`    \n",
    "`conda install -y -c bioconda kmer-jellyfish`    \n",
    "`conda install -y -c bioconda wtdbg`    \n",
    "`conda install -y -c bioconda assembly-stats`    \n",
    "`conda install -y -c bioconda unicycler`    \n",
    "`conda install -y seqtk`  \n",
    "`conda install -y velvet`    \n",
    "\n",
    "\n",
    "### PacBio Assembly    \n",
    "We will demonstrate assembly of long reads using `canu`. More information about the algorithm can be accessed [here](https://canu.readthedocs.io/).    \n",
    "+ Navigate to directory `~/2020-repos/2-assembly/` using `cd ~/2020-repos/2-assembly/`\n",
    "+ Obtain the data using the command `rsync -av sserwadda@10.218.7.131:/Users/sserwadda/raw-reads .`\n",
    "+ The `raw-reads` directory has both Pacbio and Illumina reads. The pre-filtered PacBio reads are called `PBReads.fastq` - have a look at the contents of this file using `less -S PBReads.fastq`. What do you notice compared to the Illumina fastq files?    \n",
    "+ The following flags are pre-requisites for the canu program to run:    \n",
    "    - The “p” option - sets the prefix of output files to “PB”    \n",
    "    - The “d” option sets the output directory to “PacBio”    \n",
    "\n",
    "\n",
    "\n",
    "Lets examine the outputs for this run using the automated script `assembly-illumina-pacbio-final.sh` which can be edited to suit the individual user's needs.    \n",
    "\n",
    "### Illumina Assembly    \n",
    "We are going to use the assembler [velvet](https://www.ebi.ac.uk/~zerbino/velvet/) to assemble the Illumina reads.    \n",
    "The software takes in different k-mer sizes. For this tutorial, we will consider `[29,19,15]`. Note that very small k-mer size crashes the algorithm    \n",
    "+ Write down the results for each assembly made using different k-mer sizes in the order `kmer, nodes, N50, largest contig` . Which one looks the best?\n",
    "+ `assembly-stats` software can give you a summary of all these results in an instant.    \n",
    "\n",
    "\n",
    "***CONSIDER THE OUTPUTS FROM BOTH ILLUMINA AND PACBIO:*** What is your conclusion?"
   ]
  },
  {
   "cell_type": "code",
   "execution_count": null,
   "metadata": {},
   "outputs": [],
   "source": []
  }
 ],
 "metadata": {
  "kernelspec": {
   "display_name": "Python 3",
   "language": "python",
   "name": "python3"
  },
  "language_info": {
   "codemirror_mode": {
    "name": "ipython",
    "version": 3
   },
   "file_extension": ".py",
   "mimetype": "text/x-python",
   "name": "python",
   "nbconvert_exporter": "python",
   "pygments_lexer": "ipython3",
   "version": "3.7.6"
  }
 },
 "nbformat": 4,
 "nbformat_minor": 4
}

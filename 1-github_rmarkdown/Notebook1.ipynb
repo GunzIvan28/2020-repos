{
 "cells": [
  {
   "cell_type": "markdown",
   "metadata": {},
   "source": [
    "# Introduction: Jupyter Notebooks, Rmarkdown & Github\n",
    "\n",
    "The course materials for this session can be accessed via https://github.com/GunzIvan28/2020-repos.git.\n",
    "<small><small><i>\n",
    "\n",
    "## Introduction\n",
    "The Jupyter Notebook is an interactive computing environment that enables users to author notebooks, which contain a complete and self-contained record of a computation. These notebooks can be shared more efficiently. The notebooks may contain:\n",
    "* Live code\n",
    "* Interactive widgets\n",
    "* Narrative text\n",
    "\n",
    "\"Jupyter\" is a loose acronym meaning Julia, Python, and R; the primary languages supported by Jupyter. \n",
    "    \n",
    "The notebook can allow a computational researcher to create reproducible documentation of their research. As Bioinformatics is datacentric, use of Jupyter Notebooks increases research transparency, hence promoting open science.\n",
    "    \n",
    "### Installation\n",
    "\n",
    "1. [Download Miniconda](https://www.anaconda.com/download/) for your specific OS to your home directory\n",
    "    - Linux: `wget https://repo.continuum.io/miniconda/Miniconda3-latest-Linux-x86_64.sh`\n",
    "    - Mac: `curl https://repo.continuum.io/miniconda/Miniconda3-latest-MacOSX-x86_64.sh`\n",
    "2. Run:\n",
    "    - `bash Miniconda3-latest-Linux-x86_64.sh`\n",
    "    - `bash Miniconda3-latest-MacOSX-x86_64.sh`\n",
    "3. Follow all the prompts: if unsure, accept defaults\n",
    "4. Close and re-open your terminal\n",
    "5. If the installation is successful, you should see a list of installed packages with\n",
    "    - `conda list`\n",
    "If the command cannot be found, you can add Anaconda bin to the path using:\n",
    "    ` export PATH=~/miniconda3/bin:$PATH`\n",
    "\n",
    "For reproducible analysis, you can [create a conda environment](https://conda.io/docs/user-guide/tasks/manage-environments.html) with all the Python packages you used.\n",
    "\n",
    "    `conda create --name bioinf`\n",
    "    \n",
    "To activate the conda environment:\n",
    "    `source activate bioinf`\n",
    "\n",
    "Having set-up conda environment, you can install any package you need using pip. \n",
    "\n",
    "`conda install jupyter`\n",
    "`conda install -c conda-forge jupyterlab`\n",
    "\n",
    "or by using pip\n",
    "\n",
    "`pip3 install jupyter`\n",
    "\n",
    "Then you can quickly launch it using:\n",
    "\n",
    "`jupyter notebook` or `jupyter lab`\n",
    "\n",
    "A Jupyter notebook is made up of many cells. Each cell can contain Python code. You can execute a cell by clicking on it and pressing `Shift-Enter` or `Ctrl-Enter` (run without moving to the next line). \n",
    "\n",
    "### Further help\n",
    "\n",
    "To learn more about Jupyter notebooks, check [the official introduction](http://nbviewer.jupyter.org/github/jupyter/notebook/blob/master/docs/source/examples/Notebook/Notebook%20Basics.ipynb) and [some useful Jupyter Tricks](https://www.dataquest.io/blog/jupyter-notebook-tips-tricks-shortcuts/). \n",
    "\n",
    "Book: http://www.ict.ru.ac.za/Resources/cspw/thinkcspy3/thinkcspy3.pdf\n",
    "\n",
    "## How to learn from this resource?\n",
    "\n",
    "Download all the notebooks from [2020-repos](https://github.com/GunzIvan28/2020-repos). The easiest way to do that is to clone the GitHub repository to your working directory using any of the following commands:\n",
    "\n",
    "    git clone https://github.com/GunzIvan28/2020-repos.git\n",
    "\n",
    "or\n",
    "\n",
    "    wget https://github.com/GunzIvan28/2020-repos/archive/master.zip\n",
    "    \n",
    "    unzip master.zip\n",
    "    \n",
    "    rm master.zip\n",
    "    \n",
    "\n",
    "## How to Contribute\n",
    "\n",
    "To contribute, fork the repository, make some updates and send me a pull request. \n",
    "\n",
    "Alternatively, you can open an issue. "
   ]
  },
  {
   "cell_type": "markdown",
   "metadata": {},
   "source": [
    "# .YAML files\n",
    "YAML (a recursive acronym for \"YAML Ain't Markup Language\") is a human-readable data-serialization language. It is commonly used for configuration files and in applications where data is being stored or transmitted. YAML targets many of the same communications applications as Extensible Markup Language (XML).\n",
    "<small><small><i>\n",
    "\n",
    ".yaml files contain the required softwares for a particular softwares. It will install their respective dependancies alongside the software itself. These files ease installations especially through conda.\n",
    "\n",
    "Let's create two environments: `python2-env` & `python3-env` using the contents in the .yml files `python2-test.yml` & `python3-test.yml`\n",
    "    \n",
    "Install the diffferent environments using:    \n",
    "`conda-env create -n python2-env --file python2-test.yml`\n",
    "\n",
    "`conda-env create -n python3-env --file python3-test.yml`\n",
    "\n",
    "\n",
    "  \n"
   ]
  },
  {
   "cell_type": "markdown",
   "metadata": {},
   "source": [
    "# Rmarkdown"
   ]
  },
  {
   "cell_type": "markdown",
   "metadata": {},
   "source": [
    "1. EMPHASIS    \n",
    "Emphasis, aka italics, with *asterisks* or _underscores_.  \n",
    "\n",
    "Strong emphasis, aka bold, with **asterisks** or __underscores__.\n",
    "\n",
    "Combined emphasis with **asterisks and _underscores_**.\n",
    "\n",
    "Strikethrough uses two tildes. ~~Scratch this.~~"
   ]
  },
  {
   "cell_type": "markdown",
   "metadata": {},
   "source": [
    "**_Rmarkdown_**\n",
    "\n",
    "~~scaratch this~~"
   ]
  },
  {
   "cell_type": "markdown",
   "metadata": {},
   "source": [
    "2. LINE SPACING    \n",
    "Spaces[4] create text in highlighted boxes    \n",
    "From a sentence;    \n",
    "ENTER once - creates one space between the lines of the same paragraph    \n",
    "ENTER twice - creates two lines and a new paragraph    \n",
    "\n",
    "Two trailing spaces - create a line break without a paragraph\n",
    "* Unordered list can use asterisks\n",
    "- Or minuses\n",
    "+ Or pluses"
   ]
  },
  {
   "cell_type": "code",
   "execution_count": null,
   "metadata": {},
   "outputs": [],
   "source": []
  },
  {
   "cell_type": "markdown",
   "metadata": {},
   "source": [
    "3. LINKS\n",
    "Square brackets create links in code. The title of your link is enclosed in square brackets immediately followed by the whole website enclosed in curly brackets\n",
    "[Google Homepage](https://www.google.com) \n"
   ]
  },
  {
   "cell_type": "code",
   "execution_count": null,
   "metadata": {},
   "outputs": [],
   "source": []
  },
  {
   "cell_type": "markdown",
   "metadata": {},
   "source": [
    "4. CODE AND SYNTAX HIGHLIGHTING    \n",
    "Inline `code` has `back-ticks around` it."
   ]
  },
  {
   "cell_type": "markdown",
   "metadata": {},
   "source": [
    "   \n",
    "\n"
   ]
  },
  {
   "cell_type": "markdown",
   "metadata": {},
   "source": [
    "\n"
   ]
  },
  {
   "cell_type": "markdown",
   "metadata": {},
   "source": [
    "5. TABLES    \n",
    "Colons can be used to align columns.    \n",
    "There must be at least 3 dashes separating each header cell.      \n",
    "The outer pipes (|) are optional, and you don't need to make the raw Markdown to line up prettily. You can also use inline Markdown.  \n"
   ]
  },
  {
   "cell_type": "markdown",
   "metadata": {},
   "source": [
    "Item | Quantity | Amount\n",
    "--- | :--- | ---:\n",
    "sugar|2kgs|4000|\n"
   ]
  },
  {
   "cell_type": "markdown",
   "metadata": {},
   "source": [
    "6. BLOCKQUOTES\n",
    "Blockquotes are very handy in email to emulate reply text    \n",
    "Spaces between start up another blockquote"
   ]
  },
  {
   "cell_type": "markdown",
   "metadata": {},
   "source": [
    ">Blockquotes are very handy in email to emulate reply text\n",
    "This line is part of the same quote. \n",
    "\n",
    ">This is a very long line that will still be quoted properly when it wraps. Oh boy let's keep writing to make sure this is long enough to actually wrap for everyone. Oh, you can *put* **Markdown** into a blockquote"
   ]
  },
  {
   "cell_type": "markdown",
   "metadata": {},
   "source": [
    "7. HORIZONTAL RULE\n",
    "Use three or more    \n",
    "--- hyphens    \n",
    "*** Asteriks    \n",
    "___ Underscores"
   ]
  },
  {
   "cell_type": "markdown",
   "metadata": {},
   "source": [
    "# Github Basics\n",
    "We need to set up two environmental variables:we need to set up with Git is your GitHub user name, and the second variable is the email address that you used to create your GitHub account    \n",
    "`git config --global user.name \"GunzIvan28\"`    \n",
    "`git config --global user.email ivangunz23@gmail.com`    \n",
    "Let’s create our first Git repository. First we need to create a directory\n",
    "`mkdir my-first-repo;cd my-first-repo`    \n",
    "To start tracking files with Git in a directory enter git init into the command line:\n",
    "`git init`    \n",
    "You’ve just created your first repository! Now let’s create a file and start tracking it.\n",
    "`echo \"Welcome to My First Repo\" > readme.txt`    \n",
    "Now that we’ve created a file in this Git repository, let’s use git status to see what’s going on in this repository.\n",
    "`git status`    \n",
    "`git add readme.txt`    \n",
    "This milestone is called a commit in Git. A commit logs the content of all of the currently staged files. Right now we only have readme.txt staged so let’s commit the creation of this file. When making a Git commit, we need to write a commit message which is specified after the -m flag.    \n",
    "`git commit -m \"added readme.txt\"`\n",
    "`git status`    \n",
    "Let’s add a few more files to this repository and commit them    \n",
    "`touch file1.txt;touch fil2.txt`    \n",
    "`git add -A`    \n",
    "`git status`    \n",
    "Now the changes to all of the files in this repository are being tracked. Finally let’s commit these changes:    \n",
    "`git commit -m \"added two files\"`    \n",
    "Now we need to make a copy of our local repository and send it to the remote repository; We use the following commands    \n",
    "`git remote`    \n",
    "`git remote add origin https://github.com/GunzIvan28/my-first-repo.git`    \n",
    "`git remote`    \n",
    "`git push -u origin master`   \n",
    "\n",
    "Kindly do more digging into `Branches, Pull Requests, Merging, Tracking, Issues`\n"
   ]
  }
 ],
 "metadata": {
  "kernelspec": {
   "display_name": "Python 3",
   "language": "python",
   "name": "python3"
  },
  "language_info": {
   "codemirror_mode": {
    "name": "ipython",
    "version": 3
   },
   "file_extension": ".py",
   "mimetype": "text/x-python",
   "name": "python",
   "nbconvert_exporter": "python",
   "pygments_lexer": "ipython3",
   "version": "3.7.6"
  }
 },
 "nbformat": 4,
 "nbformat_minor": 4
}
